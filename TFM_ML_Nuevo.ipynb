{
 "cells": [
  {
   "cell_type": "code",
   "execution_count": 82,
   "metadata": {},
   "outputs": [],
   "source": [
    "import pandas as pd\n",
    "import csv\n",
    "\n",
    "df4 = pd.read_csv('df_clean.csv')"
   ]
  },
  {
   "cell_type": "code",
   "execution_count": 83,
   "metadata": {},
   "outputs": [
    {
     "name": "stdout",
     "output_type": "stream",
     "text": [
      "Populating the interactive namespace from numpy and matplotlib\n"
     ]
    },
    {
     "name": "stderr",
     "output_type": "stream",
     "text": [
      "/Users/beatrizarevalosanchez/opt/anaconda3/lib/python3.7/site-packages/IPython/core/magics/pylab.py:160: UserWarning: pylab import has clobbered these variables: ['f', 'norm', 'clf']\n",
      "`%matplotlib` prevents importing * from pylab and numpy\n",
      "  \"\\n`%matplotlib` prevents importing * from pylab and numpy\"\n"
     ]
    }
   ],
   "source": [
    "import seaborn as sns\n",
    "%pylab inline"
   ]
  },
  {
   "cell_type": "code",
   "execution_count": 84,
   "metadata": {
    "scrolled": false
   },
   "outputs": [
    {
     "data": {
      "text/plain": [
       "Index(['INCIDENT_DATE_TIME', 'IM_INCIDENT_KEY', 'FIRE_BOX',\n",
       "       'INCIDENT_TYPE_DESC', 'ARRIVAL_DATE_TIME', 'UNITS_ONSCENE',\n",
       "       'LAST_UNIT_CLEARED_DATE_TIME', 'HIGHEST_LEVEL_DESC',\n",
       "       'TOTAL_INCIDENT_DURATION', 'ACTION_TAKEN1_DESC', 'PROPERTY_USE_DESC',\n",
       "       'ZIP_CODE', 'BOROUGH_DESC', 'CO_DETECTOR_PRESENT_DESC', 'FIRE_BOXX',\n",
       "       'Long', 'Lat', 'Adress', 'CODE_PROPERTY', 'PROPERTY_TYPE',\n",
       "       'CODE_INCIDENT', 'INCIDENT_TYPE'],\n",
       "      dtype='object')"
      ]
     },
     "execution_count": 84,
     "metadata": {},
     "output_type": "execute_result"
    }
   ],
   "source": [
    "df4.columns"
   ]
  },
  {
   "cell_type": "code",
   "execution_count": 85,
   "metadata": {
    "scrolled": true
   },
   "outputs": [
    {
     "data": {
      "text/plain": [
       "2075835"
      ]
     },
     "execution_count": 85,
     "metadata": {},
     "output_type": "execute_result"
    }
   ],
   "source": [
    "len(df4)"
   ]
  },
  {
   "cell_type": "code",
   "execution_count": 86,
   "metadata": {},
   "outputs": [],
   "source": [
    "#COLUMNA CODE_PROPERTY"
   ]
  },
  {
   "cell_type": "code",
   "execution_count": 87,
   "metadata": {
    "scrolled": false
   },
   "outputs": [
    {
     "data": {
      "text/plain": [
       "0.10      7.00\n",
       "0.25     29.25\n",
       "0.50    145.00\n",
       "0.75    456.25\n",
       "Name: CODE_PROPERTY, dtype: float64"
      ]
     },
     "execution_count": 87,
     "metadata": {},
     "output_type": "execute_result"
    }
   ],
   "source": [
    "df4.CODE_PROPERTY.value_counts().quantile([.1, .25, .5, .75])"
   ]
  },
  {
   "cell_type": "code",
   "execution_count": 88,
   "metadata": {},
   "outputs": [
    {
     "data": {
      "text/plain": [
       "0.9790609561935317"
      ]
     },
     "execution_count": 88,
     "metadata": {},
     "output_type": "execute_result"
    }
   ],
   "source": [
    "#Si obtenemos los cuantiles de la columna CODE_PROPERTY observamos que el 98% de los registros se concentran en unos pocos valores\n",
    "df4.CODE_PROPERTY.value_counts()[df4.CODE_PROPERTY.value_counts() > df4.CODE_PROPERTY.value_counts().quantile([.90]).values[0]].sum()/len(df4)"
   ]
  },
  {
   "cell_type": "code",
   "execution_count": 89,
   "metadata": {},
   "outputs": [
    {
     "data": {
      "text/plain": [
       "16"
      ]
     },
     "execution_count": 89,
     "metadata": {},
     "output_type": "execute_result"
    }
   ],
   "source": [
    "len(df4.CODE_PROPERTY.value_counts()[df4.CODE_PROPERTY.value_counts() > df4.CODE_PROPERTY.value_counts().quantile([.90]).values[0]])"
   ]
  },
  {
   "cell_type": "code",
   "execution_count": 90,
   "metadata": {
    "scrolled": true
   },
   "outputs": [
    {
     "data": {
      "text/plain": [
       "138"
      ]
     },
     "execution_count": 90,
     "metadata": {},
     "output_type": "execute_result"
    }
   ],
   "source": [
    "len(df4.CODE_PROPERTY.value_counts()[df4.CODE_PROPERTY.value_counts() < df4.CODE_PROPERTY.value_counts().quantile([.90]).values[0]])"
   ]
  },
  {
   "cell_type": "code",
   "execution_count": 91,
   "metadata": {
    "scrolled": true
   },
   "outputs": [
    {
     "data": {
      "text/plain": [
       "<matplotlib.axes._subplots.AxesSubplot at 0x7f877aa7b150>"
      ]
     },
     "execution_count": 91,
     "metadata": {},
     "output_type": "execute_result"
    },
    {
     "data": {
      "image/png": "[encoded data removed]",
      "text/plain": [
       "<Figure size 432x288 with 1 Axes>"
      ]
     },
     "metadata": {
      "needs_background": "light"
     },
     "output_type": "display_data"
    }
   ],
   "source": [
    "df4.CODE_PROPERTY.value_counts()[df4.CODE_PROPERTY.value_counts() > df4.CODE_PROPERTY.value_counts().quantile([.90]).values[0]].plot(kind='bar',\n",
    "                                            title='CODE_PROPERTY distribution')"
   ]
  },
  {
   "cell_type": "code",
   "execution_count": 92,
   "metadata": {},
   "outputs": [],
   "source": [
    "#Incluyo los 138 valores en un OTHERS"
   ]
  },
  {
   "cell_type": "code",
   "execution_count": 93,
   "metadata": {},
   "outputs": [],
   "source": [
    "def norm_prop(df,norm):\n",
    "    if df in norm:\n",
    "        return 'OTHERS PROPERTIES'            \n",
    "    else:\n",
    "        return df"
   ]
  },
  {
   "cell_type": "code",
   "execution_count": 94,
   "metadata": {},
   "outputs": [],
   "source": [
    "norm = df4.CODE_PROPERTY.value_counts()[df4.CODE_PROPERTY.value_counts() < df4.CODE_PROPERTY.value_counts().quantile([.90]).values[0]].index"
   ]
  },
  {
   "cell_type": "code",
   "execution_count": 95,
   "metadata": {},
   "outputs": [],
   "source": [
    "df4['CODE_PROPERTY'] = df4.apply(lambda x: norm_prop(x['CODE_PROPERTY'],norm),axis=1)"
   ]
  },
  {
   "cell_type": "code",
   "execution_count": 96,
   "metadata": {},
   "outputs": [
    {
     "data": {
      "text/html": [
       "<div>\n",
       "<style scoped>\n",
       "    .dataframe tbody tr th:only-of-type {\n",
       "        vertical-align: middle;\n",
       "    }\n",
       "\n",
       "    .dataframe tbody tr th {\n",
       "        vertical-align: top;\n",
       "    }\n",
       "\n",
       "    .dataframe thead th {\n",
       "        text-align: right;\n",
       "    }\n",
       "</style>\n",
       "<table border=\"1\" class=\"dataframe\">\n",
       "  <thead>\n",
       "    <tr style=\"text-align: right;\">\n",
       "      <th></th>\n",
       "      <th>CODE_PROPERTY</th>\n",
       "    </tr>\n",
       "  </thead>\n",
       "  <tbody>\n",
       "    <tr>\n",
       "      <th>UUU</th>\n",
       "      <td>1220734</td>\n",
       "    </tr>\n",
       "    <tr>\n",
       "      <th>429</th>\n",
       "      <td>426171</td>\n",
       "    </tr>\n",
       "    <tr>\n",
       "      <th>419</th>\n",
       "      <td>112354</td>\n",
       "    </tr>\n",
       "    <tr>\n",
       "      <th>962</th>\n",
       "      <td>88568</td>\n",
       "    </tr>\n",
       "    <tr>\n",
       "      <th>960</th>\n",
       "      <td>83370</td>\n",
       "    </tr>\n",
       "    <tr>\n",
       "      <th>OTHERS PROPERTIES</th>\n",
       "      <td>43466</td>\n",
       "    </tr>\n",
       "    <tr>\n",
       "      <th>963</th>\n",
       "      <td>28414</td>\n",
       "    </tr>\n",
       "    <tr>\n",
       "      <th>500</th>\n",
       "      <td>20130</td>\n",
       "    </tr>\n",
       "    <tr>\n",
       "      <th>400</th>\n",
       "      <td>13189</td>\n",
       "    </tr>\n",
       "    <tr>\n",
       "      <th>599</th>\n",
       "      <td>12568</td>\n",
       "    </tr>\n",
       "    <tr>\n",
       "      <th>900</th>\n",
       "      <td>4678</td>\n",
       "    </tr>\n",
       "    <tr>\n",
       "      <th>449</th>\n",
       "      <td>4664</td>\n",
       "    </tr>\n",
       "    <tr>\n",
       "      <th>961</th>\n",
       "      <td>4640</td>\n",
       "    </tr>\n",
       "    <tr>\n",
       "      <th>331</th>\n",
       "      <td>3523</td>\n",
       "    </tr>\n",
       "    <tr>\n",
       "      <th>210</th>\n",
       "      <td>3365</td>\n",
       "    </tr>\n",
       "    <tr>\n",
       "      <th>460</th>\n",
       "      <td>3070</td>\n",
       "    </tr>\n",
       "    <tr>\n",
       "      <th>161</th>\n",
       "      <td>2931</td>\n",
       "    </tr>\n",
       "  </tbody>\n",
       "</table>\n",
       "</div>"
      ],
      "text/plain": [
       "                   CODE_PROPERTY\n",
       "UUU                      1220734\n",
       "429                       426171\n",
       "419                       112354\n",
       "962                        88568\n",
       "960                        83370\n",
       "OTHERS PROPERTIES          43466\n",
       "963                        28414\n",
       "500                        20130\n",
       "400                        13189\n",
       "599                        12568\n",
       "900                         4678\n",
       "449                         4664\n",
       "961                         4640\n",
       "331                         3523\n",
       "210                         3365\n",
       "460                         3070\n",
       "161                         2931"
      ]
     },
     "execution_count": 96,
     "metadata": {},
     "output_type": "execute_result"
    }
   ],
   "source": [
    "prr = pd.DataFrame(df4.CODE_PROPERTY.value_counts())\n",
    "prr"
   ]
  },
  {
   "cell_type": "code",
   "execution_count": 97,
   "metadata": {},
   "outputs": [],
   "source": [
    "#Elimino las filas donde CODE_PROPERTY sea igual a UUU, ya que no nos aporta información"
   ]
  },
  {
   "cell_type": "code",
   "execution_count": 98,
   "metadata": {},
   "outputs": [],
   "source": [
    "df4 = df4.drop(df4[df4.CODE_PROPERTY == 'UUU '].index)"
   ]
  },
  {
   "cell_type": "code",
   "execution_count": 99,
   "metadata": {
    "scrolled": true
   },
   "outputs": [
    {
     "data": {
      "text/html": [
       "<div>\n",
       "<style scoped>\n",
       "    .dataframe tbody tr th:only-of-type {\n",
       "        vertical-align: middle;\n",
       "    }\n",
       "\n",
       "    .dataframe tbody tr th {\n",
       "        vertical-align: top;\n",
       "    }\n",
       "\n",
       "    .dataframe thead th {\n",
       "        text-align: right;\n",
       "    }\n",
       "</style>\n",
       "<table border=\"1\" class=\"dataframe\">\n",
       "  <thead>\n",
       "    <tr style=\"text-align: right;\">\n",
       "      <th></th>\n",
       "      <th>CODE_PROPERTY</th>\n",
       "    </tr>\n",
       "  </thead>\n",
       "  <tbody>\n",
       "    <tr>\n",
       "      <th>429</th>\n",
       "      <td>426171</td>\n",
       "    </tr>\n",
       "    <tr>\n",
       "      <th>419</th>\n",
       "      <td>112354</td>\n",
       "    </tr>\n",
       "    <tr>\n",
       "      <th>962</th>\n",
       "      <td>88568</td>\n",
       "    </tr>\n",
       "    <tr>\n",
       "      <th>960</th>\n",
       "      <td>83370</td>\n",
       "    </tr>\n",
       "    <tr>\n",
       "      <th>OTHERS PROPERTIES</th>\n",
       "      <td>43466</td>\n",
       "    </tr>\n",
       "    <tr>\n",
       "      <th>963</th>\n",
       "      <td>28414</td>\n",
       "    </tr>\n",
       "    <tr>\n",
       "      <th>500</th>\n",
       "      <td>20130</td>\n",
       "    </tr>\n",
       "    <tr>\n",
       "      <th>400</th>\n",
       "      <td>13189</td>\n",
       "    </tr>\n",
       "    <tr>\n",
       "      <th>599</th>\n",
       "      <td>12568</td>\n",
       "    </tr>\n",
       "    <tr>\n",
       "      <th>900</th>\n",
       "      <td>4678</td>\n",
       "    </tr>\n",
       "    <tr>\n",
       "      <th>449</th>\n",
       "      <td>4664</td>\n",
       "    </tr>\n",
       "    <tr>\n",
       "      <th>961</th>\n",
       "      <td>4640</td>\n",
       "    </tr>\n",
       "    <tr>\n",
       "      <th>331</th>\n",
       "      <td>3523</td>\n",
       "    </tr>\n",
       "    <tr>\n",
       "      <th>210</th>\n",
       "      <td>3365</td>\n",
       "    </tr>\n",
       "    <tr>\n",
       "      <th>460</th>\n",
       "      <td>3070</td>\n",
       "    </tr>\n",
       "    <tr>\n",
       "      <th>161</th>\n",
       "      <td>2931</td>\n",
       "    </tr>\n",
       "  </tbody>\n",
       "</table>\n",
       "</div>"
      ],
      "text/plain": [
       "                   CODE_PROPERTY\n",
       "429                       426171\n",
       "419                       112354\n",
       "962                        88568\n",
       "960                        83370\n",
       "OTHERS PROPERTIES          43466\n",
       "963                        28414\n",
       "500                        20130\n",
       "400                        13189\n",
       "599                        12568\n",
       "900                         4678\n",
       "449                         4664\n",
       "961                         4640\n",
       "331                         3523\n",
       "210                         3365\n",
       "460                         3070\n",
       "161                         2931"
      ]
     },
     "execution_count": 99,
     "metadata": {},
     "output_type": "execute_result"
    }
   ],
   "source": [
    "prr = pd.DataFrame(df4.CODE_PROPERTY.value_counts())\n",
    "prr"
   ]
  },
  {
   "cell_type": "code",
   "execution_count": 100,
   "metadata": {},
   "outputs": [],
   "source": [
    "#COLUMNA CODE_INCIDENT"
   ]
  },
  {
   "cell_type": "code",
   "execution_count": 101,
   "metadata": {},
   "outputs": [],
   "source": [
    "#Al igual que con la columna CODE_PROPERTY, en esta columna la mayoría de registros se acumulan en unos pocos valores"
   ]
  },
  {
   "cell_type": "code",
   "execution_count": 102,
   "metadata": {},
   "outputs": [
    {
     "data": {
      "text/plain": [
       "<matplotlib.axes._subplots.AxesSubplot at 0x7f87163f0390>"
      ]
     },
     "execution_count": 102,
     "metadata": {},
     "output_type": "execute_result"
    },
    {
     "data": {
      "image/png": "[encoded data removed]",
      "text/plain": [
       "<Figure size 432x288 with 1 Axes>"
      ]
     },
     "metadata": {
      "needs_background": "light"
     },
     "output_type": "display_data"
    }
   ],
   "source": [
    "df4.CODE_INCIDENT.value_counts()[df4.CODE_INCIDENT.value_counts() > df4.CODE_INCIDENT.value_counts().quantile([.90]).values[0]].plot(kind='bar',\n",
    "                                            title='CODE_INCIDENT distribution')"
   ]
  },
  {
   "cell_type": "code",
   "execution_count": 103,
   "metadata": {
    "scrolled": false
   },
   "outputs": [],
   "source": [
    "#df4.CODE_INCIDENT.value_counts().describe()"
   ]
  },
  {
   "cell_type": "code",
   "execution_count": 104,
   "metadata": {
    "scrolled": true
   },
   "outputs": [
    {
     "data": {
      "text/plain": [
       "0.10       7.0\n",
       "0.25      36.0\n",
       "0.50     176.0\n",
       "0.75    1488.0\n",
       "Name: CODE_INCIDENT, dtype: float64"
      ]
     },
     "execution_count": 104,
     "metadata": {},
     "output_type": "execute_result"
    }
   ],
   "source": [
    "df4.CODE_INCIDENT.value_counts().quantile([.1, .25, .5, .75])"
   ]
  },
  {
   "cell_type": "code",
   "execution_count": 105,
   "metadata": {},
   "outputs": [
    {
     "data": {
      "text/plain": [
       "0.9354380359746978"
      ]
     },
     "execution_count": 105,
     "metadata": {},
     "output_type": "execute_result"
    }
   ],
   "source": [
    "df4.CODE_INCIDENT.value_counts()[df4.CODE_INCIDENT.value_counts() > df4.CODE_INCIDENT.value_counts().quantile([.8]).values[0]].sum()/len(df4)"
   ]
  },
  {
   "cell_type": "code",
   "execution_count": 106,
   "metadata": {},
   "outputs": [
    {
     "data": {
      "text/plain": [
       "36"
      ]
     },
     "execution_count": 106,
     "metadata": {},
     "output_type": "execute_result"
    }
   ],
   "source": [
    "len(df4.CODE_INCIDENT.value_counts()[df4.CODE_INCIDENT.value_counts() > df4.CODE_INCIDENT.value_counts().quantile([.8]).values[0]])"
   ]
  },
  {
   "cell_type": "code",
   "execution_count": 107,
   "metadata": {},
   "outputs": [],
   "source": [
    "#Incluyo el resto de valores en un OTHERS"
   ]
  },
  {
   "cell_type": "code",
   "execution_count": 108,
   "metadata": {},
   "outputs": [],
   "source": [
    "inc = df4.CODE_INCIDENT.value_counts()[df4.CODE_INCIDENT.value_counts() < df4.CODE_INCIDENT.value_counts().quantile([.80]).values[0]].index"
   ]
  },
  {
   "cell_type": "code",
   "execution_count": 109,
   "metadata": {},
   "outputs": [],
   "source": [
    "def norm_inc(df,inc):\n",
    "    if df in inc:\n",
    "        return 'OTHERS INCIDENTS'            \n",
    "    else:\n",
    "        return df"
   ]
  },
  {
   "cell_type": "code",
   "execution_count": 110,
   "metadata": {},
   "outputs": [],
   "source": [
    "df4['CODE_INCIDENT'] = df4.apply(lambda x: norm_inc(x['CODE_INCIDENT'],inc),axis=1)"
   ]
  },
  {
   "cell_type": "code",
   "execution_count": 111,
   "metadata": {},
   "outputs": [
    {
     "data": {
      "text/html": [
       "<div>\n",
       "<style scoped>\n",
       "    .dataframe tbody tr th:only-of-type {\n",
       "        vertical-align: middle;\n",
       "    }\n",
       "\n",
       "    .dataframe tbody tr th {\n",
       "        vertical-align: top;\n",
       "    }\n",
       "\n",
       "    .dataframe thead th {\n",
       "        text-align: right;\n",
       "    }\n",
       "</style>\n",
       "<table border=\"1\" class=\"dataframe\">\n",
       "  <thead>\n",
       "    <tr style=\"text-align: right;\">\n",
       "      <th></th>\n",
       "      <th>CODE_INCIDENT</th>\n",
       "    </tr>\n",
       "  </thead>\n",
       "  <tbody>\n",
       "    <tr>\n",
       "      <th>353</th>\n",
       "      <td>111509</td>\n",
       "    </tr>\n",
       "    <tr>\n",
       "      <th>522</th>\n",
       "      <td>103429</td>\n",
       "    </tr>\n",
       "    <tr>\n",
       "      <th>412</th>\n",
       "      <td>100593</td>\n",
       "    </tr>\n",
       "    <tr>\n",
       "      <th>113</th>\n",
       "      <td>82283</td>\n",
       "    </tr>\n",
       "    <tr>\n",
       "      <th>OTHERS INCIDENTS</th>\n",
       "      <td>51758</td>\n",
       "    </tr>\n",
       "    <tr>\n",
       "      <th>555</th>\n",
       "      <td>45639</td>\n",
       "    </tr>\n",
       "    <tr>\n",
       "      <th>445</th>\n",
       "      <td>35079</td>\n",
       "    </tr>\n",
       "    <tr>\n",
       "      <th>5001</th>\n",
       "      <td>25902</td>\n",
       "    </tr>\n",
       "    <tr>\n",
       "      <th>151</th>\n",
       "      <td>25317</td>\n",
       "    </tr>\n",
       "    <tr>\n",
       "      <th>322</th>\n",
       "      <td>24339</td>\n",
       "    </tr>\n",
       "    <tr>\n",
       "      <th>311</th>\n",
       "      <td>22005</td>\n",
       "    </tr>\n",
       "    <tr>\n",
       "      <th>331</th>\n",
       "      <td>21265</td>\n",
       "    </tr>\n",
       "    <tr>\n",
       "      <th>511</th>\n",
       "      <td>17250</td>\n",
       "    </tr>\n",
       "    <tr>\n",
       "      <th>600</th>\n",
       "      <td>15818</td>\n",
       "    </tr>\n",
       "    <tr>\n",
       "      <th>323</th>\n",
       "      <td>15543</td>\n",
       "    </tr>\n",
       "    <tr>\n",
       "      <th>111</th>\n",
       "      <td>12114</td>\n",
       "    </tr>\n",
       "    <tr>\n",
       "      <th>200</th>\n",
       "      <td>11592</td>\n",
       "    </tr>\n",
       "    <tr>\n",
       "      <th>500</th>\n",
       "      <td>11268</td>\n",
       "    </tr>\n",
       "    <tr>\n",
       "      <th>424</th>\n",
       "      <td>9656</td>\n",
       "    </tr>\n",
       "    <tr>\n",
       "      <th>4001</th>\n",
       "      <td>9031</td>\n",
       "    </tr>\n",
       "    <tr>\n",
       "      <th>116</th>\n",
       "      <td>8996</td>\n",
       "    </tr>\n",
       "    <tr>\n",
       "      <th>746</th>\n",
       "      <td>8377</td>\n",
       "    </tr>\n",
       "    <tr>\n",
       "      <th>118</th>\n",
       "      <td>8037</td>\n",
       "    </tr>\n",
       "    <tr>\n",
       "      <th>100</th>\n",
       "      <td>7172</td>\n",
       "    </tr>\n",
       "    <tr>\n",
       "      <th>131</th>\n",
       "      <td>7168</td>\n",
       "    </tr>\n",
       "    <tr>\n",
       "      <th>444</th>\n",
       "      <td>6841</td>\n",
       "    </tr>\n",
       "    <tr>\n",
       "      <th>550</th>\n",
       "      <td>6632</td>\n",
       "    </tr>\n",
       "    <tr>\n",
       "      <th>622</th>\n",
       "      <td>6137</td>\n",
       "    </tr>\n",
       "    <tr>\n",
       "      <th>731</th>\n",
       "      <td>5985</td>\n",
       "    </tr>\n",
       "    <tr>\n",
       "      <th>112</th>\n",
       "      <td>5567</td>\n",
       "    </tr>\n",
       "    <tr>\n",
       "      <th>651</th>\n",
       "      <td>4971</td>\n",
       "    </tr>\n",
       "    <tr>\n",
       "      <th>740B</th>\n",
       "      <td>4786</td>\n",
       "    </tr>\n",
       "    <tr>\n",
       "      <th>520</th>\n",
       "      <td>4557</td>\n",
       "    </tr>\n",
       "    <tr>\n",
       "      <th>400</th>\n",
       "      <td>4167</td>\n",
       "    </tr>\n",
       "    <tr>\n",
       "      <th>735A</th>\n",
       "      <td>3823</td>\n",
       "    </tr>\n",
       "    <tr>\n",
       "      <th>463</th>\n",
       "      <td>3582</td>\n",
       "    </tr>\n",
       "    <tr>\n",
       "      <th>411</th>\n",
       "      <td>3464</td>\n",
       "    </tr>\n",
       "    <tr>\n",
       "      <th>142</th>\n",
       "      <td>3449</td>\n",
       "    </tr>\n",
       "  </tbody>\n",
       "</table>\n",
       "</div>"
      ],
      "text/plain": [
       "                  CODE_INCIDENT\n",
       "353                      111509\n",
       "522                      103429\n",
       "412                      100593\n",
       "113                       82283\n",
       "OTHERS INCIDENTS          51758\n",
       "555                       45639\n",
       "445                       35079\n",
       "5001                      25902\n",
       "151                       25317\n",
       "322                       24339\n",
       "311                       22005\n",
       "331                       21265\n",
       "511                       17250\n",
       "600                       15818\n",
       "323                       15543\n",
       "111                       12114\n",
       "200                       11592\n",
       "500                       11268\n",
       "424                        9656\n",
       "4001                       9031\n",
       "116                        8996\n",
       "746                        8377\n",
       "118                        8037\n",
       "100                        7172\n",
       "131                        7168\n",
       "444                        6841\n",
       "550                        6632\n",
       "622                        6137\n",
       "731                        5985\n",
       "112                        5567\n",
       "651                        4971\n",
       "740B                       4786\n",
       "520                        4557\n",
       "400                        4167\n",
       "735A                       3823\n",
       "463                        3582\n",
       "411                        3464\n",
       "142                        3449"
      ]
     },
     "execution_count": 111,
     "metadata": {},
     "output_type": "execute_result"
    }
   ],
   "source": [
    "prpr = pd.DataFrame(df4.CODE_INCIDENT.value_counts())\n",
    "prpr"
   ]
  },
  {
   "cell_type": "markdown",
   "metadata": {},
   "source": [
    "### VARIABLE OBJETIVO"
   ]
  },
  {
   "cell_type": "code",
   "execution_count": 112,
   "metadata": {},
   "outputs": [
    {
     "data": {
      "text/plain": [
       "count    855101.000000\n",
       "mean         24.618280\n",
       "std          63.720123\n",
       "min           0.000000\n",
       "25%          13.266667\n",
       "50%          18.050000\n",
       "75%          25.433333\n",
       "max       14164.033333\n",
       "Name: TOTAL_INCIDENT_DURATION, dtype: float64"
      ]
     },
     "execution_count": 112,
     "metadata": {},
     "output_type": "execute_result"
    }
   ],
   "source": [
    "df4['TOTAL_INCIDENT_DURATION'].describe()"
   ]
  },
  {
   "cell_type": "code",
   "execution_count": 113,
   "metadata": {},
   "outputs": [
    {
     "data": {
      "text/plain": [
       "0.10     1.0\n",
       "0.25     1.0\n",
       "0.50     3.0\n",
       "0.75    24.0\n",
       "Name: TOTAL_INCIDENT_DURATION, dtype: float64"
      ]
     },
     "execution_count": 113,
     "metadata": {},
     "output_type": "execute_result"
    }
   ],
   "source": [
    "df4.TOTAL_INCIDENT_DURATION.value_counts().quantile([.1, .25, .5, .75])"
   ]
  },
  {
   "cell_type": "code",
   "execution_count": 114,
   "metadata": {},
   "outputs": [
    {
     "data": {
      "text/plain": [
       "855101"
      ]
     },
     "execution_count": 114,
     "metadata": {},
     "output_type": "execute_result"
    }
   ],
   "source": [
    "len(df4['TOTAL_INCIDENT_DURATION'])"
   ]
  },
  {
   "cell_type": "code",
   "execution_count": 115,
   "metadata": {},
   "outputs": [
    {
     "data": {
      "text/html": [
       "<div>\n",
       "<style scoped>\n",
       "    .dataframe tbody tr th:only-of-type {\n",
       "        vertical-align: middle;\n",
       "    }\n",
       "\n",
       "    .dataframe tbody tr th {\n",
       "        vertical-align: top;\n",
       "    }\n",
       "\n",
       "    .dataframe thead th {\n",
       "        text-align: right;\n",
       "    }\n",
       "</style>\n",
       "<table border=\"1\" class=\"dataframe\">\n",
       "  <thead>\n",
       "    <tr style=\"text-align: right;\">\n",
       "      <th></th>\n",
       "      <th>TOTAL_INCIDENT_DURATION</th>\n",
       "    </tr>\n",
       "  </thead>\n",
       "  <tbody>\n",
       "    <tr>\n",
       "      <th>16.150000</th>\n",
       "      <td>833</td>\n",
       "    </tr>\n",
       "    <tr>\n",
       "      <th>15.216667</th>\n",
       "      <td>832</td>\n",
       "    </tr>\n",
       "    <tr>\n",
       "      <th>15.833333</th>\n",
       "      <td>826</td>\n",
       "    </tr>\n",
       "    <tr>\n",
       "      <th>14.650000</th>\n",
       "      <td>825</td>\n",
       "    </tr>\n",
       "    <tr>\n",
       "      <th>14.283333</th>\n",
       "      <td>823</td>\n",
       "    </tr>\n",
       "    <tr>\n",
       "      <th>...</th>\n",
       "      <td>...</td>\n",
       "    </tr>\n",
       "    <tr>\n",
       "      <th>485.716667</th>\n",
       "      <td>1</td>\n",
       "    </tr>\n",
       "    <tr>\n",
       "      <th>812.683333</th>\n",
       "      <td>1</td>\n",
       "    </tr>\n",
       "    <tr>\n",
       "      <th>190.750000</th>\n",
       "      <td>1</td>\n",
       "    </tr>\n",
       "    <tr>\n",
       "      <th>158.283333</th>\n",
       "      <td>1</td>\n",
       "    </tr>\n",
       "    <tr>\n",
       "      <th>232.916667</th>\n",
       "      <td>1</td>\n",
       "    </tr>\n",
       "  </tbody>\n",
       "</table>\n",
       "<p>13500 rows × 1 columns</p>\n",
       "</div>"
      ],
      "text/plain": [
       "            TOTAL_INCIDENT_DURATION\n",
       "16.150000                       833\n",
       "15.216667                       832\n",
       "15.833333                       826\n",
       "14.650000                       825\n",
       "14.283333                       823\n",
       "...                             ...\n",
       "485.716667                        1\n",
       "812.683333                        1\n",
       "190.750000                        1\n",
       "158.283333                        1\n",
       "232.916667                        1\n",
       "\n",
       "[13500 rows x 1 columns]"
      ]
     },
     "execution_count": 115,
     "metadata": {},
     "output_type": "execute_result"
    }
   ],
   "source": [
    "pr1 = pd.DataFrame(df4.TOTAL_INCIDENT_DURATION.value_counts())\n",
    "pr1"
   ]
  },
  {
   "cell_type": "code",
   "execution_count": 116,
   "metadata": {},
   "outputs": [
    {
     "data": {
      "text/plain": [
       "<matplotlib.axes._subplots.AxesSubplot at 0x7f8715f63750>"
      ]
     },
     "execution_count": 116,
     "metadata": {},
     "output_type": "execute_result"
    },
    {
     "data": {
      "image/png": "[encoded data removed]",
      "text/plain": [
       "<Figure size 432x288 with 1 Axes>"
      ]
     },
     "metadata": {
      "needs_background": "light"
     },
     "output_type": "display_data"
    }
   ],
   "source": [
    "sns.distplot(df4['TOTAL_INCIDENT_DURATION'])"
   ]
  },
  {
   "cell_type": "markdown",
   "metadata": {},
   "source": [
    "### OUTLIERS"
   ]
  },
  {
   "cell_type": "markdown",
   "metadata": {},
   "source": [
    "#### Para reconocer cuales son los outliers he usado una función que he encontrado en esta url:\n",
    "https://towardsdatascience.com/5-ways-to-detect-outliers-that-every-data-scientist-should-know-python-code-70a54335a623"
   ]
  },
  {
   "cell_type": "code",
   "execution_count": 118,
   "metadata": {},
   "outputs": [
    {
     "name": "stdout",
     "output_type": "stream",
     "text": [
      "-166.5419768937046\n"
     ]
    },
    {
     "data": {
      "text/plain": [
       "[306.8,\n",
       " 251.65,\n",
       " 395.15,\n",
       " 1342.3333333333333,\n",
       " 274.48333333333335,\n",
       " 490.53333333333336,\n",
       " 236.06666666666663,\n",
       " 644.3833333333333,\n",
       " 331.2,\n",
       " 888.3166666666667,\n",
       " 233.1,\n",
       " 1755.2666666666669,\n",
       " 11189.2,\n",
       " 250.21666666666667,\n",
       " 337.9166666666667,\n",
       " 217.61666666666667,\n",
       " 640.6666666666666,\n",
       " 274.28333333333336,\n",
       " 437.26666666666665,\n",
       " 258.75,\n",
       " 302.98333333333335,\n",
       " 237.56666666666663,\n",
       " 638.8166666666667,\n",
       " 246.05,\n",
       " 986.0666666666667,\n",
       " 14164.033333333333,\n",
       " 959.4,\n",
       " 273.2,\n",
       " 1131.1,\n",
       " 2143.366666666667,\n",
       " 487.66666666666674,\n",
       " 668.7833333333333,\n",
       " 218.58333333333331,\n",
       " 233.95,\n",
       " 358.61666666666673,\n",
       " 390.53333333333336,\n",
       " 245.25,\n",
       " 330.45,\n",
       " 644.8666666666667,\n",
       " 11516.55,\n",
       " 310.9,\n",
       " 228.96666666666667,\n",
       " 230.03333333333333,\n",
       " 2954.116666666667,\n",
       " 255.83333333333331,\n",
       " 408.28333333333336,\n",
       " 681.55,\n",
       " 301.3333333333333,\n",
       " 616.5,\n",
       " 260.1,\n",
       " 315.78333333333336,\n",
       " 591.05,\n",
       " 263.75,\n",
       " 347.4,\n",
       " 254.95,\n",
       " 225.7333333333333,\n",
       " 446.45,\n",
       " 585.3833333333333,\n",
       " 312.75,\n",
       " 437.73333333333335,\n",
       " 426.7,\n",
       " 1599.966666666667,\n",
       " 331.9,\n",
       " 1378.5,\n",
       " 675.65,\n",
       " 338.15,\n",
       " 241.71666666666667,\n",
       " 248.7333333333333,\n",
       " 1137.6,\n",
       " 235.8,\n",
       " 257.28333333333336,\n",
       " 396.05,\n",
       " 300.73333333333335,\n",
       " 407.4333333333333,\n",
       " 342.3833333333333,\n",
       " 359.41666666666674,\n",
       " 449.53333333333336,\n",
       " 269.23333333333335,\n",
       " 471.23333333333335,\n",
       " 410.85,\n",
       " 257.56666666666666,\n",
       " 10025.966666666667,\n",
       " 249.75,\n",
       " 225.11666666666667,\n",
       " 494.16666666666674,\n",
       " 256.05,\n",
       " 232.51666666666668,\n",
       " 247.15,\n",
       " 332.05,\n",
       " 433.16666666666674,\n",
       " 539.5,\n",
       " 261.8833333333333,\n",
       " 218.58333333333331,\n",
       " 276.3666666666667,\n",
       " 473.4,\n",
       " 1513.966666666667,\n",
       " 358.65,\n",
       " 336.6,\n",
       " 357.76666666666665,\n",
       " 872.7666666666668,\n",
       " 220.9,\n",
       " 2741.383333333333,\n",
       " 218.38333333333333,\n",
       " 263.71666666666664,\n",
       " 228.7,\n",
       " 317.78333333333336,\n",
       " 223.2333333333333,\n",
       " 333.45,\n",
       " 252.85,\n",
       " 2002.45,\n",
       " 242.45,\n",
       " 260.48333333333335,\n",
       " 255.63333333333333,\n",
       " 295.43333333333334,\n",
       " 4448.183333333333,\n",
       " 618.9166666666666,\n",
       " 273.48333333333335,\n",
       " 240.81666666666663,\n",
       " 4529.633333333333,\n",
       " 398.78333333333336,\n",
       " 355.45,\n",
       " 452.55,\n",
       " 1965.4,\n",
       " 230.95,\n",
       " 511.58333333333326,\n",
       " 233.9833333333333,\n",
       " 325.0,\n",
       " 1583.716666666667,\n",
       " 232.4333333333333,\n",
       " 471.6833333333333,\n",
       " 231.65,\n",
       " 687.0166666666668,\n",
       " 498.9666666666666,\n",
       " 242.11666666666667,\n",
       " 272.03333333333336,\n",
       " 266.15,\n",
       " 1431.1,\n",
       " 2812.633333333333,\n",
       " 255.46666666666667,\n",
       " 426.36666666666673,\n",
       " 595.6166666666667,\n",
       " 259.6,\n",
       " 527.4833333333332,\n",
       " 2927.5,\n",
       " 301.18333333333334,\n",
       " 321.3666666666667,\n",
       " 300.75,\n",
       " 1430.333333333333,\n",
       " 273.48333333333335,\n",
       " 1384.45,\n",
       " 968.1,\n",
       " 315.3666666666667,\n",
       " 365.56666666666666,\n",
       " 326.9166666666667,\n",
       " 1079.5333333333333,\n",
       " 330.9166666666667,\n",
       " 246.4333333333333,\n",
       " 240.13333333333333,\n",
       " 371.06666666666666,\n",
       " 496.28333333333336,\n",
       " 463.33333333333326,\n",
       " 425.15,\n",
       " 367.88333333333327,\n",
       " 1942.6333333333332,\n",
       " 382.61666666666673,\n",
       " 5476.066666666667,\n",
       " 1010.4,\n",
       " 364.08333333333326,\n",
       " 224.81666666666663,\n",
       " 623.4333333333333,\n",
       " 1601.95,\n",
       " 268.9166666666667,\n",
       " 452.9666666666666,\n",
       " 2782.916666666666,\n",
       " 259.55,\n",
       " 5790.25,\n",
       " 675.9,\n",
       " 469.16666666666674,\n",
       " 262.1166666666667,\n",
       " 322.4166666666667,\n",
       " 1271.3333333333333,\n",
       " 222.31666666666663,\n",
       " 216.56666666666663,\n",
       " 310.26666666666665,\n",
       " 447.73333333333335,\n",
       " 221.88333333333333,\n",
       " 6237.133333333332,\n",
       " 263.25,\n",
       " 229.81666666666663,\n",
       " 680.7333333333332,\n",
       " 466.9,\n",
       " 274.05,\n",
       " 285.53333333333336,\n",
       " 240.56666666666663,\n",
       " 241.16666666666663,\n",
       " 593.7,\n",
       " 283.8,\n",
       " 228.0,\n",
       " 262.71666666666664,\n",
       " 269.3,\n",
       " 357.15,\n",
       " 345.06666666666666,\n",
       " 226.46666666666667,\n",
       " 424.41666666666674,\n",
       " 220.9333333333333,\n",
       " 216.33333333333331,\n",
       " 318.6333333333333,\n",
       " 230.91666666666663,\n",
       " 286.73333333333335,\n",
       " 295.71666666666664,\n",
       " 670.2333333333332,\n",
       " 241.9833333333333,\n",
       " 364.41666666666674,\n",
       " 235.85,\n",
       " 386.9333333333333,\n",
       " 1054.75,\n",
       " 254.61666666666667,\n",
       " 540.3666666666667,\n",
       " 269.75,\n",
       " 361.45,\n",
       " 744.3333333333335,\n",
       " 278.23333333333335,\n",
       " 250.35,\n",
       " 252.38333333333333,\n",
       " 246.4833333333333,\n",
       " 304.3666666666667,\n",
       " 256.78333333333336,\n",
       " 265.6333333333333,\n",
       " 422.01666666666665,\n",
       " 627.1333333333333,\n",
       " 364.3,\n",
       " 381.16666666666674,\n",
       " 320.73333333333335,\n",
       " 231.81666666666663,\n",
       " 244.11666666666667,\n",
       " 261.4166666666667,\n",
       " 221.65,\n",
       " 321.8666666666667,\n",
       " 342.8833333333333,\n",
       " 262.8666666666667,\n",
       " 413.4,\n",
       " 284.0833333333333,\n",
       " 250.78333333333333,\n",
       " 238.8,\n",
       " 299.1666666666667,\n",
       " 529.0666666666667,\n",
       " 245.53333333333333,\n",
       " 540.15,\n",
       " 232.1,\n",
       " 215.78333333333333,\n",
       " 232.9,\n",
       " 223.08333333333331,\n",
       " 265.56666666666666,\n",
       " 252.71666666666667,\n",
       " 264.71666666666664,\n",
       " 230.41666666666663,\n",
       " 737.2666666666668,\n",
       " 220.55,\n",
       " 332.98333333333335,\n",
       " 772.0333333333333,\n",
       " 291.3666666666667,\n",
       " 231.51666666666668,\n",
       " 216.9833333333333,\n",
       " 219.71666666666667,\n",
       " 508.16666666666674,\n",
       " 223.4833333333333,\n",
       " 333.21666666666664,\n",
       " 299.1166666666667,\n",
       " 6981.533333333334,\n",
       " 716.8833333333333,\n",
       " 1033.9333333333334,\n",
       " 971.4666666666667,\n",
       " 302.8333333333333,\n",
       " 234.36666666666667,\n",
       " 289.68333333333334,\n",
       " 371.66666666666674,\n",
       " 233.8,\n",
       " 2689.016666666667,\n",
       " 449.65,\n",
       " 326.81666666666666,\n",
       " 313.3666666666667,\n",
       " 330.75,\n",
       " 255.56666666666663,\n",
       " 296.96666666666664,\n",
       " 264.7,\n",
       " 1476.1166666666666,\n",
       " 255.76666666666668,\n",
       " 272.3833333333333,\n",
       " 527.1166666666667,\n",
       " 409.4333333333333,\n",
       " 871.2333333333332,\n",
       " 273.3,\n",
       " 244.7,\n",
       " 475.05,\n",
       " 219.86666666666667,\n",
       " 353.21666666666664,\n",
       " 301.18333333333334,\n",
       " 229.28333333333333,\n",
       " 266.8833333333333,\n",
       " 248.25,\n",
       " 230.9833333333333,\n",
       " 615.0166666666668,\n",
       " 479.56666666666666,\n",
       " 243.66666666666663,\n",
       " 706.5,\n",
       " 216.1833333333333,\n",
       " 265.2,\n",
       " 286.46666666666664,\n",
       " 386.83333333333326,\n",
       " 1622.8166666666666,\n",
       " 956.7833333333333,\n",
       " 1079.1666666666667,\n",
       " 231.75,\n",
       " 461.8,\n",
       " 230.81666666666663,\n",
       " 601.6,\n",
       " 1752.4,\n",
       " 567.8666666666667,\n",
       " 235.55,\n",
       " 225.78333333333333,\n",
       " 219.96666666666667,\n",
       " 475.58333333333326,\n",
       " 272.8,\n",
       " 433.41666666666674,\n",
       " 263.21666666666664,\n",
       " 233.53333333333333,\n",
       " 224.4833333333333,\n",
       " 239.63333333333333,\n",
       " 265.23333333333335,\n",
       " 219.35,\n",
       " 220.15,\n",
       " 2125.55,\n",
       " 393.9333333333333,\n",
       " 754.3166666666667,\n",
       " 914.6,\n",
       " 437.6,\n",
       " 221.6,\n",
       " 725.1666666666665,\n",
       " 226.95,\n",
       " 787.7166666666667,\n",
       " 977.75,\n",
       " 256.26666666666665,\n",
       " 315.25,\n",
       " 232.0,\n",
       " 227.53333333333333,\n",
       " 219.1,\n",
       " 228.15,\n",
       " 843.8666666666667,\n",
       " 425.7166666666666,\n",
       " 251.78333333333333,\n",
       " 221.4,\n",
       " 604.4,\n",
       " 223.4833333333333,\n",
       " 506.48333333333335,\n",
       " 610.0,\n",
       " 422.58333333333326,\n",
       " 401.03333333333336,\n",
       " 298.9,\n",
       " 315.01666666666665,\n",
       " 325.01666666666665,\n",
       " 224.7333333333333,\n",
       " 328.43333333333334,\n",
       " 527.15,\n",
       " 588.3666666666667,\n",
       " 629.7833333333333,\n",
       " 509.13333333333327,\n",
       " 583.6333333333333,\n",
       " 749.5333333333333,\n",
       " 348.33333333333326,\n",
       " 535.9,\n",
       " 437.78333333333336,\n",
       " 267.73333333333335,\n",
       " 234.1833333333333,\n",
       " 330.4166666666667,\n",
       " 234.85,\n",
       " 230.33333333333331,\n",
       " 290.8666666666667,\n",
       " 230.21666666666667,\n",
       " 327.3666666666667,\n",
       " 327.98333333333335,\n",
       " 327.5833333333333,\n",
       " 578.15,\n",
       " 1516.6,\n",
       " 355.4333333333333,\n",
       " 255.91666666666663,\n",
       " 402.7166666666666,\n",
       " 361.05,\n",
       " 248.5,\n",
       " 217.36666666666667,\n",
       " 235.38333333333333,\n",
       " 216.86666666666667,\n",
       " 275.4166666666667,\n",
       " 1033.9666666666667,\n",
       " 851.0,\n",
       " 244.4,\n",
       " 265.03333333333336,\n",
       " 5532.1,\n",
       " 435.53333333333336,\n",
       " 673.3666666666667,\n",
       " 1266.45,\n",
       " 238.9333333333333,\n",
       " 248.15,\n",
       " 263.56666666666666,\n",
       " 238.71666666666667,\n",
       " 1745.8166666666666,\n",
       " 246.15,\n",
       " 291.45,\n",
       " 288.65,\n",
       " 729.55,\n",
       " 216.61666666666667,\n",
       " 232.76666666666668,\n",
       " 229.8,\n",
       " 292.68333333333334,\n",
       " 268.3833333333333,\n",
       " 224.11666666666667,\n",
       " 248.46666666666667,\n",
       " 235.1,\n",
       " 297.06666666666666,\n",
       " 218.51666666666668,\n",
       " 230.66666666666663,\n",
       " 254.2,\n",
       " 508.51666666666665,\n",
       " 461.7,\n",
       " 345.01666666666665,\n",
       " 270.9166666666667,\n",
       " 217.11666666666667,\n",
       " 445.1833333333333,\n",
       " 1890.5166666666669,\n",
       " 239.58333333333331,\n",
       " 264.9166666666667,\n",
       " 343.9833333333333,\n",
       " 299.26666666666665,\n",
       " 237.06666666666663,\n",
       " 330.1333333333333,\n",
       " 661.85,\n",
       " 622.0666666666667,\n",
       " 316.8833333333333,\n",
       " 215.9,\n",
       " 908.0666666666667,\n",
       " 2964.6,\n",
       " 5785.783333333334,\n",
       " 283.95,\n",
       " 280.21666666666664,\n",
       " 788.4666666666667,\n",
       " 358.9833333333333,\n",
       " 276.21666666666664,\n",
       " 365.25,\n",
       " 616.45,\n",
       " 408.51666666666665,\n",
       " 354.38333333333327,\n",
       " 244.35,\n",
       " 221.95,\n",
       " 591.0666666666667,\n",
       " 1054.1166666666666,\n",
       " 223.9,\n",
       " 529.7833333333333,\n",
       " 218.25,\n",
       " 229.36666666666667,\n",
       " 790.4166666666665,\n",
       " 998.5666666666667,\n",
       " 326.78333333333336,\n",
       " 278.51666666666665,\n",
       " 418.35,\n",
       " 261.05,\n",
       " 845.95,\n",
       " 390.4,\n",
       " 1441.8666666666666,\n",
       " 304.73333333333335,\n",
       " 334.7,\n",
       " 1429.8166666666666,\n",
       " 440.65,\n",
       " 1000.1333333333333,\n",
       " 227.13333333333333,\n",
       " 390.16666666666674,\n",
       " 348.6,\n",
       " 289.9,\n",
       " 289.46666666666664,\n",
       " 358.36666666666673,\n",
       " 2018.9833333333331,\n",
       " 295.68333333333334,\n",
       " 293.81666666666666,\n",
       " 224.56666666666663,\n",
       " 321.5833333333333,\n",
       " 397.28333333333336,\n",
       " 268.1333333333333,\n",
       " 219.25,\n",
       " 607.25,\n",
       " 221.15,\n",
       " 476.63333333333327,\n",
       " 217.16666666666663,\n",
       " 627.1333333333333,\n",
       " 403.15,\n",
       " 1197.75,\n",
       " 2549.083333333333,\n",
       " 241.51666666666668,\n",
       " 252.25,\n",
       " 302.3333333333333,\n",
       " 268.5833333333333,\n",
       " 357.1,\n",
       " 518.4166666666666,\n",
       " 2044.3166666666666,\n",
       " 1306.0166666666667,\n",
       " 235.4,\n",
       " 936.35,\n",
       " 702.95,\n",
       " 232.05,\n",
       " 248.28333333333333,\n",
       " 333.75,\n",
       " 220.1833333333333,\n",
       " 277.31666666666666,\n",
       " 221.66666666666663,\n",
       " 915.2833333333333,\n",
       " 487.6833333333333,\n",
       " 263.0,\n",
       " 220.58333333333331,\n",
       " 271.1333333333333,\n",
       " 232.5,\n",
       " 219.86666666666667,\n",
       " 1960.783333333333,\n",
       " 271.01666666666665,\n",
       " 460.0,\n",
       " 266.3666666666667,\n",
       " 236.4833333333333,\n",
       " 366.51666666666665,\n",
       " 420.56666666666666,\n",
       " 297.31666666666666,\n",
       " 241.13333333333333,\n",
       " 1221.0833333333333,\n",
       " 738.2,\n",
       " 251.38333333333333,\n",
       " 231.78333333333333,\n",
       " 1216.5666666666666,\n",
       " 311.3,\n",
       " 612.8833333333333,\n",
       " 286.95,\n",
       " 299.3666666666667,\n",
       " 285.73333333333335,\n",
       " 272.98333333333335,\n",
       " 235.58333333333331,\n",
       " 311.01666666666665,\n",
       " 216.7,\n",
       " 410.7,\n",
       " 230.78333333333333,\n",
       " 878.7666666666668,\n",
       " 451.3,\n",
       " 243.8,\n",
       " 309.6666666666667,\n",
       " 451.83333333333326,\n",
       " 397.83333333333326,\n",
       " 230.91666666666663,\n",
       " 1301.4833333333333,\n",
       " 246.2,\n",
       " 218.08333333333331,\n",
       " 223.33333333333331,\n",
       " 533.6166666666667,\n",
       " 254.86666666666667,\n",
       " 220.46666666666667,\n",
       " 298.4,\n",
       " 265.76666666666665,\n",
       " 4871.1,\n",
       " 362.33333333333326,\n",
       " 334.96666666666664,\n",
       " 277.6333333333333,\n",
       " 2486.25,\n",
       " 341.1666666666667,\n",
       " 1690.2,\n",
       " 833.8333333333335,\n",
       " 518.6166666666667,\n",
       " 442.51666666666665,\n",
       " 456.6,\n",
       " 264.75,\n",
       " 265.68333333333334,\n",
       " 221.28333333333333,\n",
       " 1805.2,\n",
       " 222.78333333333333,\n",
       " 259.56666666666666,\n",
       " 241.65,\n",
       " 310.8666666666667,\n",
       " 414.5,\n",
       " 422.4,\n",
       " 257.8666666666667,\n",
       " 226.61666666666667,\n",
       " 216.6833333333333,\n",
       " 344.85,\n",
       " 218.1833333333333,\n",
       " 476.31666666666666,\n",
       " 5805.116666666668,\n",
       " 236.75,\n",
       " 321.75,\n",
       " 922.5,\n",
       " 378.26666666666665,\n",
       " 312.1,\n",
       " 255.28333333333333,\n",
       " 4228.7,\n",
       " 259.0833333333333,\n",
       " 4185.716666666666,\n",
       " 262.43333333333334,\n",
       " 528.1333333333333,\n",
       " 260.1333333333333,\n",
       " 401.65,\n",
       " 571.4166666666666,\n",
       " 1063.7666666666667,\n",
       " 232.35,\n",
       " 1274.2333333333333,\n",
       " 310.28333333333336,\n",
       " 231.75,\n",
       " 244.08333333333331,\n",
       " 1492.4,\n",
       " 429.56666666666666,\n",
       " 271.03333333333336,\n",
       " 883.1833333333333,\n",
       " 237.75,\n",
       " 526.75,\n",
       " 251.11666666666667,\n",
       " 252.01666666666668,\n",
       " 670.55,\n",
       " 1378.55,\n",
       " 315.51666666666665,\n",
       " 235.4833333333333,\n",
       " 235.8,\n",
       " 1700.3166666666666,\n",
       " 243.96666666666667,\n",
       " 706.4166666666665,\n",
       " 241.6,\n",
       " 362.06666666666666,\n",
       " 307.9,\n",
       " 1834.7666666666669,\n",
       " 246.36666666666667,\n",
       " 239.4333333333333,\n",
       " 226.25,\n",
       " 275.26666666666665,\n",
       " 261.95,\n",
       " 907.1666666666665,\n",
       " 226.4833333333333,\n",
       " 1430.6833333333334,\n",
       " 608.1666666666666,\n",
       " 594.7,\n",
       " 259.03333333333336,\n",
       " 513.4,\n",
       " 420.7166666666666,\n",
       " 274.75,\n",
       " 1531.783333333333,\n",
       " 297.65,\n",
       " 217.7,\n",
       " 219.01666666666668,\n",
       " 1585.033333333333,\n",
       " 244.31666666666663,\n",
       " 400.95,\n",
       " 234.88333333333333,\n",
       " 2458.55,\n",
       " 218.9,\n",
       " 252.78333333333333,\n",
       " 1982.8666666666666,\n",
       " 1373.8333333333333,\n",
       " 216.78333333333333,\n",
       " 339.05,\n",
       " 2834.166666666666,\n",
       " 632.35,\n",
       " 243.95,\n",
       " 216.38333333333333,\n",
       " 217.25,\n",
       " 941.8,\n",
       " 250.28333333333333,\n",
       " 1220.3833333333334,\n",
       " 262.1333333333333,\n",
       " 268.43333333333334,\n",
       " 336.8333333333333,\n",
       " 270.5,\n",
       " 229.96666666666667,\n",
       " 355.0,\n",
       " 264.7,\n",
       " 633.05,\n",
       " 226.66666666666663,\n",
       " 254.05,\n",
       " 4538.4,\n",
       " 316.28333333333336,\n",
       " 1267.0166666666667,\n",
       " 255.28333333333333,\n",
       " 364.38333333333327,\n",
       " 271.31666666666666,\n",
       " 269.3666666666667,\n",
       " 394.9,\n",
       " 270.96666666666664,\n",
       " 217.1,\n",
       " 614.1333333333333,\n",
       " 242.7,\n",
       " 561.4166666666666,\n",
       " 309.8666666666667,\n",
       " 237.45,\n",
       " 243.2333333333333,\n",
       " 5602.233333333334,\n",
       " 802.8833333333333,\n",
       " 281.6333333333333,\n",
       " 1539.75,\n",
       " 225.76666666666668,\n",
       " 292.1666666666667,\n",
       " 1072.5833333333333,\n",
       " 219.38333333333333,\n",
       " 605.4833333333332,\n",
       " 264.51666666666665,\n",
       " 4460.483333333334,\n",
       " 280.5833333333333,\n",
       " 227.26666666666668,\n",
       " 222.3,\n",
       " 936.8666666666667,\n",
       " 535.2333333333332,\n",
       " 998.4833333333332,\n",
       " 381.48333333333335,\n",
       " 301.25,\n",
       " 629.85,\n",
       " 495.06666666666666,\n",
       " 1161.0833333333333,\n",
       " 239.21666666666667,\n",
       " 221.4833333333333,\n",
       " 246.26666666666668,\n",
       " 254.41666666666663,\n",
       " 1445.15,\n",
       " 227.7333333333333,\n",
       " 285.8333333333333,\n",
       " 848.5333333333333,\n",
       " 227.9833333333333,\n",
       " 1242.7,\n",
       " 265.45,\n",
       " 412.61666666666673,\n",
       " 225.88333333333333,\n",
       " 350.53333333333336,\n",
       " 463.63333333333327,\n",
       " 292.56666666666666,\n",
       " 828.3166666666667,\n",
       " 450.73333333333335,\n",
       " 225.46666666666667,\n",
       " 246.58333333333331,\n",
       " 395.25,\n",
       " 1390.3666666666666,\n",
       " 360.13333333333327,\n",
       " 2022.4,\n",
       " 255.31666666666663,\n",
       " 241.03333333333333,\n",
       " 412.16666666666674,\n",
       " 232.0,\n",
       " 249.86666666666667,\n",
       " 451.33333333333326,\n",
       " 803.9333333333333,\n",
       " 477.16666666666674,\n",
       " 575.2,\n",
       " 219.0,\n",
       " 740.2333333333332,\n",
       " 724.2666666666668,\n",
       " 375.8,\n",
       " 1535.7,\n",
       " 719.55,\n",
       " 222.2333333333333,\n",
       " 665.4166666666666,\n",
       " 750.9833333333332,\n",
       " 852.9333333333333,\n",
       " 566.95,\n",
       " 276.25,\n",
       " 235.1,\n",
       " 350.76666666666665,\n",
       " 1007.6,\n",
       " 225.26666666666668,\n",
       " 995.9166666666665,\n",
       " 215.9333333333333,\n",
       " 968.4,\n",
       " 220.7333333333333,\n",
       " 474.25,\n",
       " 236.55,\n",
       " 370.2,\n",
       " 872.9166666666665,\n",
       " 1096.35,\n",
       " 651.4666666666667,\n",
       " 218.41666666666663,\n",
       " 860.9833333333332,\n",
       " 221.03333333333333,\n",
       " 301.1166666666667,\n",
       " 274.71666666666664,\n",
       " 309.21666666666664,\n",
       " 216.95,\n",
       " 1136.3333333333333,\n",
       " 218.35,\n",
       " 324.8666666666667,\n",
       " 1213.9166666666667,\n",
       " 386.1833333333333,\n",
       " 823.8833333333333,\n",
       " 317.0,\n",
       " 303.35,\n",
       " 785.5833333333335,\n",
       " 649.65,\n",
       " 585.3166666666667,\n",
       " 267.35,\n",
       " 279.7,\n",
       " 265.71666666666664,\n",
       " 228.41666666666663,\n",
       " 235.16666666666663,\n",
       " 315.05,\n",
       " 230.1,\n",
       " 366.4333333333333,\n",
       " 263.6333333333333,\n",
       " 222.26666666666668,\n",
       " 347.9,\n",
       " 296.28333333333336,\n",
       " 225.8,\n",
       " 222.28333333333333,\n",
       " 389.9666666666666,\n",
       " 862.1333333333333,\n",
       " 308.56666666666666,\n",
       " 321.3833333333333,\n",
       " 393.78333333333336,\n",
       " 768.7166666666667,\n",
       " 438.0,\n",
       " 1945.85,\n",
       " 265.25,\n",
       " 321.31666666666666,\n",
       " 520.2333333333332,\n",
       " 218.65,\n",
       " 556.0166666666668,\n",
       " 423.06666666666666,\n",
       " 222.91666666666663,\n",
       " 567.3333333333334,\n",
       " 285.51666666666665,\n",
       " 220.1,\n",
       " 249.83333333333331,\n",
       " 511.78333333333336,\n",
       " 221.36666666666667,\n",
       " 351.65,\n",
       " 218.36666666666667,\n",
       " 221.66666666666663,\n",
       " 731.0166666666668,\n",
       " 485.23333333333335,\n",
       " 313.05,\n",
       " 247.56666666666663,\n",
       " 642.9333333333333,\n",
       " 725.55,\n",
       " 221.75,\n",
       " 227.71666666666667,\n",
       " 1192.4,\n",
       " 256.45,\n",
       " 360.08333333333326,\n",
       " 236.63333333333333,\n",
       " 1428.083333333333,\n",
       " 951.2166666666667,\n",
       " 687.8666666666667,\n",
       " 584.2666666666668,\n",
       " 220.15,\n",
       " 645.15,\n",
       " 242.2,\n",
       " 298.1,\n",
       " 221.65,\n",
       " 1371.5,\n",
       " 285.68333333333334,\n",
       " 217.45,\n",
       " 333.6166666666667,\n",
       " 284.8666666666667,\n",
       " 1081.9,\n",
       " 494.58333333333326,\n",
       " 323.8833333333333,\n",
       " 1174.9,\n",
       " 246.45,\n",
       " 482.66666666666674,\n",
       " 1084.25,\n",
       " 1661.3,\n",
       " 499.98333333333335,\n",
       " 279.43333333333334,\n",
       " 232.01666666666668,\n",
       " 307.3333333333333,\n",
       " 1116.95,\n",
       " 275.15,\n",
       " 238.16666666666663,\n",
       " 330.25,\n",
       " 230.13333333333333,\n",
       " 912.4333333333333,\n",
       " 297.6333333333333,\n",
       " 266.7,\n",
       " 225.83333333333331,\n",
       " 8189.85,\n",
       " 292.25,\n",
       " 487.63333333333327,\n",
       " 268.28333333333336,\n",
       " 390.9333333333333,\n",
       " 376.13333333333327,\n",
       " 903.55,\n",
       " 458.05,\n",
       " 221.91666666666663,\n",
       " 2846.9,\n",
       " 5821.633333333332,\n",
       " 301.71666666666664,\n",
       " 324.85,\n",
       " 590.4166666666666,\n",
       " 2654.866666666667,\n",
       " 318.03333333333336,\n",
       " 273.8666666666667,\n",
       " 227.26666666666668,\n",
       " 259.18333333333334,\n",
       " 367.86666666666673,\n",
       " 272.81666666666666,\n",
       " 605.6,\n",
       " 230.8,\n",
       " 216.9,\n",
       " 1725.5666666666666,\n",
       " 506.01666666666665,\n",
       " 1255.4166666666667,\n",
       " 426.9666666666666,\n",
       " 251.6,\n",
       " 240.56666666666663,\n",
       " 345.41666666666674,\n",
       " 259.78333333333336,\n",
       " 217.01666666666668,\n",
       " 217.4833333333333,\n",
       " 409.91666666666674,\n",
       " 226.21666666666667,\n",
       " 854.55,\n",
       " 224.0,\n",
       " 2016.4333333333332,\n",
       " 766.8333333333335,\n",
       " 909.6833333333333,\n",
       " 556.1833333333333,\n",
       " 241.51666666666668,\n",
       " 274.03333333333336,\n",
       " 876.3333333333335,\n",
       " 844.45,\n",
       " 269.9166666666667,\n",
       " 777.7333333333332,\n",
       " 233.66666666666663,\n",
       " 381.4333333333333,\n",
       " 506.08333333333326,\n",
       " 1314.7333333333333,\n",
       " 252.13333333333333,\n",
       " 751.0666666666667,\n",
       " 273.85,\n",
       " 600.4833333333332,\n",
       " 1123.0,\n",
       " 236.46666666666667,\n",
       " 375.86666666666673,\n",
       " 308.48333333333335,\n",
       " 353.4833333333333,\n",
       " 260.78333333333336,\n",
       " 221.5,\n",
       " 274.18333333333334,\n",
       " 275.51666666666665,\n",
       " 600.1833333333333,\n",
       " 615.8666666666667,\n",
       " 788.3666666666667,\n",
       " 604.95,\n",
       " 866.4666666666667,\n",
       " 230.31666666666663,\n",
       " 1048.7166666666667,\n",
       " 283.1333333333333,\n",
       " 1086.65,\n",
       " 253.76666666666668,\n",
       " 256.0833333333333,\n",
       " 349.71666666666664,\n",
       " 280.46666666666664,\n",
       " 314.5,\n",
       " 3090.316666666666,\n",
       " 875.2166666666667,\n",
       " 563.2166666666667,\n",
       " 376.91666666666674,\n",
       " 437.95,\n",
       " 381.23333333333335,\n",
       " 248.86666666666667,\n",
       " 503.5,\n",
       " 317.78333333333336,\n",
       " 227.76666666666668,\n",
       " 1446.0,\n",
       " 277.56666666666666,\n",
       " 325.6166666666667,\n",
       " 1452.8833333333334,\n",
       " 607.7666666666668,\n",
       " 7138.916666666668,\n",
       " 367.86666666666673,\n",
       " 7934.5666666666675,\n",
       " 960.9,\n",
       " 232.26666666666668,\n",
       " 1686.5166666666669,\n",
       " 723.8333333333335,\n",
       " 707.8666666666667,\n",
       " 258.25,\n",
       " 1138.1166666666666,\n",
       " 1979.1333333333332,\n",
       " 2194.116666666667,\n",
       " 242.81666666666663,\n",
       " 321.55,\n",
       " 375.5,\n",
       " 217.51666666666668,\n",
       " 256.53333333333336,\n",
       " 604.2833333333333,\n",
       " 339.3833333333333,\n",
       " 241.13333333333333,\n",
       " 294.71666666666664,\n",
       " 307.23333333333335,\n",
       " 1381.4333333333334,\n",
       " 585.7,\n",
       " 281.65,\n",
       " 282.6,\n",
       " 268.01666666666665,\n",
       " 356.9333333333333,\n",
       " 223.16666666666663,\n",
       " 457.2166666666666,\n",
       " 359.11666666666673,\n",
       " 347.28333333333336,\n",
       " ...]"
      ]
     },
     "execution_count": 118,
     "metadata": {},
     "output_type": "execute_result"
    }
   ],
   "source": [
    "anomalias = []\n",
    "\n",
    "def find_anomalies(datos):\n",
    "    datos_std = std(datos)\n",
    "    datos_mean = mean(datos)\n",
    "    anomaly_cut_off = datos_std * 3\n",
    "    \n",
    "    lim_inf = datos_mean - anomaly_cut_off\n",
    "    lim_sup = datos_mean + anomaly_cut_off\n",
    "    print(lim_inf)\n",
    "    for outlier in datos:\n",
    "        if outlier > lim_sup or outlier < lim_inf:\n",
    "            anomalias.append(outlier)\n",
    "    return anomalias\n",
    "\n",
    "find_anomalies(df4.TOTAL_INCIDENT_DURATION)"
   ]
  },
  {
   "cell_type": "markdown",
   "metadata": {},
   "source": [
    "#### Decido tomar como outlier todo lo que este por encima de 200 minutos (3 horas y media aprox.)"
   ]
  },
  {
   "cell_type": "code",
   "execution_count": 119,
   "metadata": {},
   "outputs": [],
   "source": [
    "df4 = df4.drop(df4[(df4['TOTAL_INCIDENT_DURATION']>200)].index)"
   ]
  },
  {
   "cell_type": "code",
   "execution_count": 120,
   "metadata": {},
   "outputs": [
    {
     "data": {
      "text/plain": [
       "851975"
      ]
     },
     "execution_count": 120,
     "metadata": {},
     "output_type": "execute_result"
    }
   ],
   "source": [
    "len(df4.TOTAL_INCIDENT_DURATION)"
   ]
  },
  {
   "cell_type": "code",
   "execution_count": 121,
   "metadata": {},
   "outputs": [
    {
     "data": {
      "text/plain": [
       "<bound method IndexOpsMixin.value_counts of 4          37.650000\n",
       "6          26.633333\n",
       "7           7.300000\n",
       "8          18.866667\n",
       "9          11.750000\n",
       "             ...    \n",
       "2075826    10.683333\n",
       "2075827    28.966667\n",
       "2075828    19.016667\n",
       "2075831    25.133333\n",
       "2075834    27.466667\n",
       "Name: TOTAL_INCIDENT_DURATION, Length: 851975, dtype: float64>"
      ]
     },
     "execution_count": 121,
     "metadata": {},
     "output_type": "execute_result"
    }
   ],
   "source": [
    "df4.TOTAL_INCIDENT_DURATION.value_counts"
   ]
  },
  {
   "cell_type": "code",
   "execution_count": 122,
   "metadata": {},
   "outputs": [
    {
     "data": {
      "text/html": [
       "<div>\n",
       "<style scoped>\n",
       "    .dataframe tbody tr th:only-of-type {\n",
       "        vertical-align: middle;\n",
       "    }\n",
       "\n",
       "    .dataframe tbody tr th {\n",
       "        vertical-align: top;\n",
       "    }\n",
       "\n",
       "    .dataframe thead th {\n",
       "        text-align: right;\n",
       "    }\n",
       "</style>\n",
       "<table border=\"1\" class=\"dataframe\">\n",
       "  <thead>\n",
       "    <tr style=\"text-align: right;\">\n",
       "      <th></th>\n",
       "      <th>TOTAL_INCIDENT_DURATION</th>\n",
       "    </tr>\n",
       "  </thead>\n",
       "  <tbody>\n",
       "    <tr>\n",
       "      <th>16.150000</th>\n",
       "      <td>833</td>\n",
       "    </tr>\n",
       "    <tr>\n",
       "      <th>15.216667</th>\n",
       "      <td>832</td>\n",
       "    </tr>\n",
       "    <tr>\n",
       "      <th>15.833333</th>\n",
       "      <td>826</td>\n",
       "    </tr>\n",
       "    <tr>\n",
       "      <th>14.650000</th>\n",
       "      <td>825</td>\n",
       "    </tr>\n",
       "    <tr>\n",
       "      <th>14.283333</th>\n",
       "      <td>823</td>\n",
       "    </tr>\n",
       "    <tr>\n",
       "      <th>...</th>\n",
       "      <td>...</td>\n",
       "    </tr>\n",
       "    <tr>\n",
       "      <th>197.883333</th>\n",
       "      <td>1</td>\n",
       "    </tr>\n",
       "    <tr>\n",
       "      <th>153.133333</th>\n",
       "      <td>1</td>\n",
       "    </tr>\n",
       "    <tr>\n",
       "      <th>154.866667</th>\n",
       "      <td>1</td>\n",
       "    </tr>\n",
       "    <tr>\n",
       "      <th>144.400000</th>\n",
       "      <td>1</td>\n",
       "    </tr>\n",
       "    <tr>\n",
       "      <th>126.133333</th>\n",
       "      <td>1</td>\n",
       "    </tr>\n",
       "  </tbody>\n",
       "</table>\n",
       "<p>10665 rows × 1 columns</p>\n",
       "</div>"
      ],
      "text/plain": [
       "            TOTAL_INCIDENT_DURATION\n",
       "16.150000                       833\n",
       "15.216667                       832\n",
       "15.833333                       826\n",
       "14.650000                       825\n",
       "14.283333                       823\n",
       "...                             ...\n",
       "197.883333                        1\n",
       "153.133333                        1\n",
       "154.866667                        1\n",
       "144.400000                        1\n",
       "126.133333                        1\n",
       "\n",
       "[10665 rows x 1 columns]"
      ]
     },
     "execution_count": 122,
     "metadata": {},
     "output_type": "execute_result"
    }
   ],
   "source": [
    "prprpr = pd.DataFrame(df4.TOTAL_INCIDENT_DURATION.value_counts())\n",
    "prprpr"
   ]
  },
  {
   "cell_type": "code",
   "execution_count": 123,
   "metadata": {},
   "outputs": [
    {
     "data": {
      "text/plain": [
       "<matplotlib.axes._subplots.AxesSubplot at 0x7f86e369fd10>"
      ]
     },
     "execution_count": 123,
     "metadata": {},
     "output_type": "execute_result"
    },
    {
     "data": {
      "image/png": "[encoded data removed]",
      "text/plain": [
       "<Figure size 432x288 with 1 Axes>"
      ]
     },
     "metadata": {
      "needs_background": "light"
     },
     "output_type": "display_data"
    }
   ],
   "source": [
    "df4.TOTAL_INCIDENT_DURATION.value_counts()[df4.TOTAL_INCIDENT_DURATION.value_counts() > df4.TOTAL_INCIDENT_DURATION.value_counts().quantile([.90]).values[0]].plot(kind='bar',\n",
    "                                            title = 'TOTAL_INCIDENT_DURATION distribution')"
   ]
  },
  {
   "cell_type": "markdown",
   "metadata": {},
   "source": [
    "### Matriz de correlación"
   ]
  },
  {
   "cell_type": "code",
   "execution_count": 124,
   "metadata": {},
   "outputs": [
    {
     "data": {
      "image/png": "[encoded data removed]",
      "text/plain": [
       "<Figure size 1080x720 with 2 Axes>"
      ]
     },
     "metadata": {
      "needs_background": "light"
     },
     "output_type": "display_data"
    }
   ],
   "source": [
    "corr_matrix = df4.corr()\n",
    "f, ax = plt.subplots(figsize = (15,10))\n",
    "colormap = sns.diverging_palette(220,20, as_cmap=True)\n",
    "sns.heatmap(corr_matrix, cmap = colormap, annot=True, fmt ='.2f', linewidths=0.3)\n",
    "plt.show()"
   ]
  },
  {
   "cell_type": "markdown",
   "metadata": {},
   "source": [
    "### DUMMIES"
   ]
  },
  {
   "cell_type": "code",
   "execution_count": 125,
   "metadata": {
    "scrolled": true
   },
   "outputs": [
    {
     "data": {
      "text/plain": [
       "Index(['INCIDENT_DATE_TIME', 'IM_INCIDENT_KEY', 'FIRE_BOX',\n",
       "       'INCIDENT_TYPE_DESC', 'ARRIVAL_DATE_TIME', 'UNITS_ONSCENE',\n",
       "       'LAST_UNIT_CLEARED_DATE_TIME', 'HIGHEST_LEVEL_DESC',\n",
       "       'TOTAL_INCIDENT_DURATION', 'ACTION_TAKEN1_DESC', 'PROPERTY_USE_DESC',\n",
       "       'ZIP_CODE', 'BOROUGH_DESC', 'CO_DETECTOR_PRESENT_DESC', 'FIRE_BOXX',\n",
       "       'Long', 'Lat', 'Adress', 'CODE_PROPERTY', 'PROPERTY_TYPE',\n",
       "       'CODE_INCIDENT', 'INCIDENT_TYPE'],\n",
       "      dtype='object')"
      ]
     },
     "execution_count": 125,
     "metadata": {},
     "output_type": "execute_result"
    }
   ],
   "source": [
    "df4.columns"
   ]
  },
  {
   "cell_type": "code",
   "execution_count": 126,
   "metadata": {},
   "outputs": [],
   "source": [
    "df = df4.loc[:, ['UNITS_ONSCENE', 'TOTAL_INCIDENT_DURATION', 'CO_DETECTOR_PRESENT_DESC', 'BOROUGH_DESC', 'CODE_PROPERTY', 'CODE_INCIDENT']]"
   ]
  },
  {
   "cell_type": "code",
   "execution_count": 127,
   "metadata": {},
   "outputs": [],
   "source": [
    "var_cat = ['CODE_PROPERTY','CODE_INCIDENT','BOROUGH_DESC']"
   ]
  },
  {
   "cell_type": "code",
   "execution_count": 128,
   "metadata": {},
   "outputs": [],
   "source": [
    "df = pd.get_dummies(df, columns = var_cat)"
   ]
  },
  {
   "cell_type": "code",
   "execution_count": 129,
   "metadata": {},
   "outputs": [
    {
     "data": {
      "text/plain": [
       "Index(['UNITS_ONSCENE', 'TOTAL_INCIDENT_DURATION', 'CO_DETECTOR_PRESENT_DESC',\n",
       "       'CODE_PROPERTY_161 ', 'CODE_PROPERTY_210 ', 'CODE_PROPERTY_331 ',\n",
       "       'CODE_PROPERTY_400 ', 'CODE_PROPERTY_419 ', 'CODE_PROPERTY_429 ',\n",
       "       'CODE_PROPERTY_449 ', 'CODE_PROPERTY_460 ', 'CODE_PROPERTY_500 ',\n",
       "       'CODE_PROPERTY_599 ', 'CODE_PROPERTY_900 ', 'CODE_PROPERTY_960 ',\n",
       "       'CODE_PROPERTY_961 ', 'CODE_PROPERTY_962 ', 'CODE_PROPERTY_963 ',\n",
       "       'CODE_PROPERTY_OTHERS PROPERTIES', 'CODE_INCIDENT_100 ',\n",
       "       'CODE_INCIDENT_111 ', 'CODE_INCIDENT_112 ', 'CODE_INCIDENT_113 ',\n",
       "       'CODE_INCIDENT_116 ', 'CODE_INCIDENT_118 ', 'CODE_INCIDENT_131 ',\n",
       "       'CODE_INCIDENT_142 ', 'CODE_INCIDENT_151 ', 'CODE_INCIDENT_200 ',\n",
       "       'CODE_INCIDENT_311 ', 'CODE_INCIDENT_322 ', 'CODE_INCIDENT_323 ',\n",
       "       'CODE_INCIDENT_331 ', 'CODE_INCIDENT_353 ', 'CODE_INCIDENT_400 ',\n",
       "       'CODE_INCIDENT_4001 ', 'CODE_INCIDENT_411 ', 'CODE_INCIDENT_412 ',\n",
       "       'CODE_INCIDENT_424 ', 'CODE_INCIDENT_444 ', 'CODE_INCIDENT_445 ',\n",
       "       'CODE_INCIDENT_463 ', 'CODE_INCIDENT_500 ', 'CODE_INCIDENT_5001 ',\n",
       "       'CODE_INCIDENT_511 ', 'CODE_INCIDENT_520 ', 'CODE_INCIDENT_522 ',\n",
       "       'CODE_INCIDENT_550 ', 'CODE_INCIDENT_555 ', 'CODE_INCIDENT_600 ',\n",
       "       'CODE_INCIDENT_622 ', 'CODE_INCIDENT_651 ', 'CODE_INCIDENT_731 ',\n",
       "       'CODE_INCIDENT_735A ', 'CODE_INCIDENT_740B ', 'CODE_INCIDENT_746 ',\n",
       "       'CODE_INCIDENT_OTHERS INCIDENTS', 'BOROUGH_DESC_BRONX',\n",
       "       'BOROUGH_DESC_BROOKLYN', 'BOROUGH_DESC_MANHATTAN',\n",
       "       'BOROUGH_DESC_QUEENS', 'BOROUGH_DESC_STATEN ISLAND'],\n",
       "      dtype='object')"
      ]
     },
     "execution_count": 129,
     "metadata": {},
     "output_type": "execute_result"
    }
   ],
   "source": [
    "df.columns"
   ]
  },
  {
   "cell_type": "markdown",
   "metadata": {},
   "source": [
    "### Separo los datos en Train y Test"
   ]
  },
  {
   "cell_type": "code",
   "execution_count": 130,
   "metadata": {},
   "outputs": [
    {
     "name": "stdout",
     "output_type": "stream",
     "text": [
      "Datos reservados: 42599\n"
     ]
    }
   ],
   "source": [
    "datos_reserva = df.sample(frac = 0.05,random_state=42)\n",
    "print('Datos reservados: %0.0f' %(len(datos_reserva)))"
   ]
  },
  {
   "cell_type": "code",
   "execution_count": 131,
   "metadata": {},
   "outputs": [
    {
     "name": "stdout",
     "output_type": "stream",
     "text": [
      "Total de datos antes de train y test: 809376\n"
     ]
    }
   ],
   "source": [
    "df_resto = df.drop(datos_reserva.index, axis = 0)\n",
    "print('Total de datos antes de train y test: %0.0f' %len(df_resto))"
   ]
  },
  {
   "cell_type": "code",
   "execution_count": 132,
   "metadata": {},
   "outputs": [],
   "source": [
    "X = df_resto.loc[:, df_resto.columns != 'TOTAL_INCIDENT_DURATION']\n",
    "y = df_resto['TOTAL_INCIDENT_DURATION']"
   ]
  },
  {
   "cell_type": "code",
   "execution_count": 133,
   "metadata": {},
   "outputs": [],
   "source": [
    "from sklearn.model_selection import train_test_split"
   ]
  },
  {
   "cell_type": "code",
   "execution_count": 134,
   "metadata": {},
   "outputs": [],
   "source": [
    "X_train, X_test, y_train, y_test = train_test_split(X, y, test_size=0.3, random_state=42)"
   ]
  },
  {
   "cell_type": "markdown",
   "metadata": {},
   "source": [
    "### Mean Model"
   ]
  },
  {
   "cell_type": "code",
   "execution_count": 137,
   "metadata": {},
   "outputs": [],
   "source": [
    "from sklearn.metrics import mean_absolute_error\n",
    "from sklearn.metrics import mean_squared_error\n",
    "from sklearn.metrics import r2_score"
   ]
  },
  {
   "cell_type": "code",
   "execution_count": 138,
   "metadata": {},
   "outputs": [],
   "source": [
    "pred_mean = y_train.mean()"
   ]
  },
  {
   "cell_type": "code",
   "execution_count": 139,
   "metadata": {},
   "outputs": [],
   "source": [
    "dfr = pd.DataFrame()\n",
    "dfr['y_real'] = y_train\n",
    "dfr['y_pred1'] = pred_mean"
   ]
  },
  {
   "cell_type": "code",
   "execution_count": 140,
   "metadata": {},
   "outputs": [],
   "source": [
    "pred_chunk = dfr['y_pred1'][:y_test.shape[0]]"
   ]
  },
  {
   "cell_type": "code",
   "execution_count": 141,
   "metadata": {},
   "outputs": [
    {
     "data": {
      "text/plain": [
       "((242813,), (242813,))"
      ]
     },
     "execution_count": 141,
     "metadata": {},
     "output_type": "execute_result"
    }
   ],
   "source": [
    "pred_chunk.shape, y_test.shape"
   ]
  },
  {
   "cell_type": "markdown",
   "metadata": {},
   "source": [
    "#### Mean Absolute Error para el Mean Model"
   ]
  },
  {
   "cell_type": "code",
   "execution_count": 142,
   "metadata": {},
   "outputs": [
    {
     "name": "stdout",
     "output_type": "stream",
     "text": [
      "Mean model: MAE = 11.08258\n"
     ]
    }
   ],
   "source": [
    "mae_mean = mean_absolute_error(y_test,pred_chunk)\n",
    "print('Mean model: MAE = %.5f' %mae_mean)"
   ]
  },
  {
   "cell_type": "markdown",
   "metadata": {},
   "source": [
    "#### Mean Squared Error para el Mean Model"
   ]
  },
  {
   "cell_type": "code",
   "execution_count": 143,
   "metadata": {},
   "outputs": [
    {
     "name": "stdout",
     "output_type": "stream",
     "text": [
      "Mean model: RMSE = 19.06799\n"
     ]
    }
   ],
   "source": [
    "rmse_mean = np.sqrt(mean_squared_error(y_test,pred_chunk))\n",
    "print('Mean model: RMSE = %.5f' %rmse_mean)"
   ]
  },
  {
   "cell_type": "markdown",
   "metadata": {},
   "source": [
    "### Regresión Lineal"
   ]
  },
  {
   "cell_type": "code",
   "execution_count": 144,
   "metadata": {},
   "outputs": [
    {
     "data": {
      "text/plain": [
       "LinearRegression(copy_X=True, fit_intercept=True, n_jobs=None, normalize=False)"
      ]
     },
     "execution_count": 144,
     "metadata": {},
     "output_type": "execute_result"
    }
   ],
   "source": [
    "from sklearn.linear_model import LinearRegression\n",
    "\n",
    "reg = LinearRegression()\n",
    "reg.fit(X_train,y_train)"
   ]
  },
  {
   "cell_type": "code",
   "execution_count": 145,
   "metadata": {},
   "outputs": [],
   "source": [
    "y_pred_reg = reg.predict(X_test)"
   ]
  },
  {
   "cell_type": "markdown",
   "metadata": {},
   "source": [
    "#### Métricas"
   ]
  },
  {
   "cell_type": "code",
   "execution_count": 146,
   "metadata": {},
   "outputs": [
    {
     "name": "stdout",
     "output_type": "stream",
     "text": [
      "Regresión Lineal: MAE = 9.77369\n"
     ]
    }
   ],
   "source": [
    "mae_reg = mean_absolute_error(y_test, y_pred_reg)\n",
    "print('Regresión Lineal: MAE = %.5f' %mae_reg)"
   ]
  },
  {
   "cell_type": "code",
   "execution_count": 147,
   "metadata": {},
   "outputs": [
    {
     "name": "stdout",
     "output_type": "stream",
     "text": [
      "Regresión Lineal: RMSE = 16.10887\n"
     ]
    }
   ],
   "source": [
    "rmse_reg = np.sqrt(mean_squared_error(y_test,y_pred_reg)) \n",
    "print('Regresión Lineal: RMSE = %.5f' %rmse_reg)  "
   ]
  },
  {
   "cell_type": "code",
   "execution_count": 148,
   "metadata": {
    "scrolled": true
   },
   "outputs": [
    {
     "name": "stdout",
     "output_type": "stream",
     "text": [
      "Regresión Lineal: R2 = 0.28628\n"
     ]
    }
   ],
   "source": [
    "r2_reg = r2_score(y_test, y_pred_reg)\n",
    "print('Regresión Lineal: R2 = %.5f' %r2_reg)"
   ]
  },
  {
   "cell_type": "code",
   "execution_count": 149,
   "metadata": {
    "scrolled": true
   },
   "outputs": [
    {
     "data": {
      "text/html": [
       "<div>\n",
       "<style scoped>\n",
       "    .dataframe tbody tr th:only-of-type {\n",
       "        vertical-align: middle;\n",
       "    }\n",
       "\n",
       "    .dataframe tbody tr th {\n",
       "        vertical-align: top;\n",
       "    }\n",
       "\n",
       "    .dataframe thead th {\n",
       "        text-align: right;\n",
       "    }\n",
       "</style>\n",
       "<table border=\"1\" class=\"dataframe\">\n",
       "  <thead>\n",
       "    <tr style=\"text-align: right;\">\n",
       "      <th></th>\n",
       "      <th>Métricas</th>\n",
       "      <th>Regresión Lineal</th>\n",
       "    </tr>\n",
       "  </thead>\n",
       "  <tbody>\n",
       "    <tr>\n",
       "      <th>0</th>\n",
       "      <td>MAE</td>\n",
       "      <td>9.773695</td>\n",
       "    </tr>\n",
       "    <tr>\n",
       "      <th>1</th>\n",
       "      <td>RMSE</td>\n",
       "      <td>16.108870</td>\n",
       "    </tr>\n",
       "    <tr>\n",
       "      <th>2</th>\n",
       "      <td>R2</td>\n",
       "      <td>0.286280</td>\n",
       "    </tr>\n",
       "  </tbody>\n",
       "</table>\n",
       "</div>"
      ],
      "text/plain": [
       "  Métricas  Regresión Lineal\n",
       "0      MAE          9.773695\n",
       "1     RMSE         16.108870\n",
       "2       R2          0.286280"
      ]
     },
     "execution_count": 149,
     "metadata": {},
     "output_type": "execute_result"
    }
   ],
   "source": [
    "metricas = {'Métricas': ['MAE', 'RMSE', 'R2'], \n",
    "           'Regresión Lineal': [mae_reg, rmse_reg,r2_reg]}\n",
    "df_metricas = pd.DataFrame(data = metricas)\n",
    "df_metricas"
   ]
  },
  {
   "cell_type": "code",
   "execution_count": null,
   "metadata": {},
   "outputs": [],
   "source": []
  },
  {
   "cell_type": "code",
   "execution_count": 150,
   "metadata": {},
   "outputs": [],
   "source": [
    "#plt.hist(y_test-y_pred_reg,bins=50);"
   ]
  },
  {
   "cell_type": "markdown",
   "metadata": {},
   "source": [
    "### KNN"
   ]
  },
  {
   "cell_type": "code",
   "execution_count": 151,
   "metadata": {},
   "outputs": [],
   "source": [
    "from sklearn.neighbors import KNeighborsRegressor\n"
   ]
  },
  {
   "cell_type": "code",
   "execution_count": 152,
   "metadata": {},
   "outputs": [],
   "source": [
    "#from sklearn.model_selection import GridSearchCV\n",
    "#param_grid = {'n_neighbors':np.arange(1,20)}\n",
    "\n",
    "#mod = GridSearchCV(KNeighborsRegressor(), param_grid, cv=2, n_jobs=1)\n",
    "#mod.fit(X_train, y_train)\n",
    "#mod.best_params_"
   ]
  },
  {
   "cell_type": "markdown",
   "metadata": {},
   "source": [
    "#### He intentado ejecutar el código de la celda de arriba para encontrar el parámetro K óptimo. Tras días ejecutandose y cambiando los parámetros no he conseguido obtener el output. Así que he decidido coger k=7  para este modelo."
   ]
  },
  {
   "cell_type": "code",
   "execution_count": 153,
   "metadata": {},
   "outputs": [
    {
     "data": {
      "text/plain": [
       "KNeighborsRegressor(algorithm='auto', leaf_size=30, metric='minkowski',\n",
       "                    metric_params=None, n_jobs=None, n_neighbors=7, p=2,\n",
       "                    weights='uniform')"
      ]
     },
     "execution_count": 153,
     "metadata": {},
     "output_type": "execute_result"
    }
   ],
   "source": [
    "regk = KNeighborsRegressor(n_neighbors=7)\n",
    "regk.fit(X_train,y_train)"
   ]
  },
  {
   "cell_type": "code",
   "execution_count": 154,
   "metadata": {},
   "outputs": [],
   "source": [
    "y_pred_regk = regk.predict(X_test)"
   ]
  },
  {
   "cell_type": "markdown",
   "metadata": {},
   "source": [
    "#### Métricas"
   ]
  },
  {
   "cell_type": "code",
   "execution_count": 155,
   "metadata": {},
   "outputs": [
    {
     "name": "stdout",
     "output_type": "stream",
     "text": [
      "KNN: MAE = 10.22596\n"
     ]
    }
   ],
   "source": [
    "mae_regk = mean_absolute_error(y_test, y_pred_regk)\n",
    "print('KNN: MAE = %.5f' %mae_regk)"
   ]
  },
  {
   "cell_type": "code",
   "execution_count": 156,
   "metadata": {},
   "outputs": [
    {
     "name": "stdout",
     "output_type": "stream",
     "text": [
      "KNN: RMSE = 16.47733\n"
     ]
    }
   ],
   "source": [
    "rmse_regk = np.sqrt(mean_squared_error(y_test,y_pred_regk)) \n",
    "print('KNN: RMSE = %.5f' %rmse_regk)"
   ]
  },
  {
   "cell_type": "code",
   "execution_count": 157,
   "metadata": {},
   "outputs": [
    {
     "name": "stdout",
     "output_type": "stream",
     "text": [
      "KNN: R2 = 0.25326\n"
     ]
    }
   ],
   "source": [
    "r2_regk = r2_score(y_test, y_pred_regk)\n",
    "print('KNN: R2 = %.5f' %r2_regk)"
   ]
  },
  {
   "cell_type": "code",
   "execution_count": 158,
   "metadata": {},
   "outputs": [
    {
     "data": {
      "text/html": [
       "<div>\n",
       "<style scoped>\n",
       "    .dataframe tbody tr th:only-of-type {\n",
       "        vertical-align: middle;\n",
       "    }\n",
       "\n",
       "    .dataframe tbody tr th {\n",
       "        vertical-align: top;\n",
       "    }\n",
       "\n",
       "    .dataframe thead th {\n",
       "        text-align: right;\n",
       "    }\n",
       "</style>\n",
       "<table border=\"1\" class=\"dataframe\">\n",
       "  <thead>\n",
       "    <tr style=\"text-align: right;\">\n",
       "      <th></th>\n",
       "      <th>Métricas</th>\n",
       "      <th>KNN</th>\n",
       "    </tr>\n",
       "  </thead>\n",
       "  <tbody>\n",
       "    <tr>\n",
       "      <th>0</th>\n",
       "      <td>MAE</td>\n",
       "      <td>10.225962</td>\n",
       "    </tr>\n",
       "    <tr>\n",
       "      <th>1</th>\n",
       "      <td>RMSE</td>\n",
       "      <td>16.477331</td>\n",
       "    </tr>\n",
       "    <tr>\n",
       "      <th>2</th>\n",
       "      <td>R2</td>\n",
       "      <td>0.253257</td>\n",
       "    </tr>\n",
       "  </tbody>\n",
       "</table>\n",
       "</div>"
      ],
      "text/plain": [
       "  Métricas        KNN\n",
       "0      MAE  10.225962\n",
       "1     RMSE  16.477331\n",
       "2       R2   0.253257"
      ]
     },
     "execution_count": 158,
     "metadata": {},
     "output_type": "execute_result"
    }
   ],
   "source": [
    "metricask = {'Métricas': ['MAE', 'RMSE', 'R2'], \n",
    "           'KNN': [mae_regk, rmse_regk,r2_regk]}\n",
    "df_metricask = pd.DataFrame(data = metricask)\n",
    "df_metricask"
   ]
  },
  {
   "cell_type": "markdown",
   "metadata": {},
   "source": [
    "### RANDOM FOREST"
   ]
  },
  {
   "cell_type": "code",
   "execution_count": 159,
   "metadata": {
    "scrolled": true
   },
   "outputs": [],
   "source": [
    "from sklearn.ensemble import RandomForestRegressor"
   ]
  },
  {
   "cell_type": "code",
   "execution_count": 160,
   "metadata": {},
   "outputs": [],
   "source": [
    "#clf = GridSearchCV(RandomForestRegressor(random_state=42),\n",
    "                  #param_grid={\"max_depth\":np.arange(2,10),\n",
    "                             #'min_samples_leaf' : (2,4),\n",
    "                             #'n_estimators': (50, 100, 200, 500, 1000)},\n",
    "                  #cv=5)\n",
    "\n",
    "#clf.fit(X_train,y_train)\n",
    "#clf.best_estimator_"
   ]
  },
  {
   "cell_type": "markdown",
   "metadata": {},
   "source": [
    "#### Al igual que ha pasado con KNN no he conseguido obtener los parámetros óptimos para este modelo ejecutando el código de la celda de arriba."
   ]
  },
  {
   "cell_type": "code",
   "execution_count": 162,
   "metadata": {},
   "outputs": [],
   "source": []
  },
  {
   "cell_type": "code",
   "execution_count": 163,
   "metadata": {},
   "outputs": [
    {
     "data": {
      "text/plain": [
       "RandomForestRegressor(bootstrap=True, ccp_alpha=0.0, criterion='mse',\n",
       "                      max_depth=4, max_features='auto', max_leaf_nodes=None,\n",
       "                      max_samples=None, min_impurity_decrease=0.0,\n",
       "                      min_impurity_split=None, min_samples_leaf=1,\n",
       "                      min_samples_split=2, min_weight_fraction_leaf=0.0,\n",
       "                      n_estimators=100, n_jobs=None, oob_score=False,\n",
       "                      random_state=None, verbose=0, warm_start=False)"
      ]
     },
     "execution_count": 163,
     "metadata": {},
     "output_type": "execute_result"
    }
   ],
   "source": [
    "regrf = RandomForestRegressor(max_depth = 4)\n",
    "\n",
    "regrf.fit(X_train,y_train)"
   ]
  },
  {
   "cell_type": "code",
   "execution_count": 164,
   "metadata": {},
   "outputs": [],
   "source": [
    "y_pred_rf = regrf.predict(X_test)"
   ]
  },
  {
   "cell_type": "markdown",
   "metadata": {},
   "source": [
    "#### Métricas"
   ]
  },
  {
   "cell_type": "code",
   "execution_count": 165,
   "metadata": {},
   "outputs": [
    {
     "name": "stdout",
     "output_type": "stream",
     "text": [
      "Random Forest: MAE = 9.80831\n"
     ]
    }
   ],
   "source": [
    "mae_rf = mean_absolute_error(y_test, y_pred_rf)\n",
    "print('Random Forest: MAE = %.5f' %mae_rf)"
   ]
  },
  {
   "cell_type": "code",
   "execution_count": 166,
   "metadata": {},
   "outputs": [
    {
     "name": "stdout",
     "output_type": "stream",
     "text": [
      "Random Forest: RMSE = 16.11901\n"
     ]
    }
   ],
   "source": [
    "rmse_rf = np.sqrt(mean_squared_error(y_test,y_pred_rf)) \n",
    "print('Random Forest: RMSE = %.5f' %rmse_rf)"
   ]
  },
  {
   "cell_type": "code",
   "execution_count": 167,
   "metadata": {},
   "outputs": [
    {
     "name": "stdout",
     "output_type": "stream",
     "text": [
      "Random Forest: R2 = 0.28538\n"
     ]
    }
   ],
   "source": [
    "r2_rf = r2_score(y_test, y_pred_rf)\n",
    "print('Random Forest: R2 = %.5f' %r2_rf)"
   ]
  },
  {
   "cell_type": "code",
   "execution_count": 168,
   "metadata": {},
   "outputs": [
    {
     "data": {
      "text/html": [
       "<div>\n",
       "<style scoped>\n",
       "    .dataframe tbody tr th:only-of-type {\n",
       "        vertical-align: middle;\n",
       "    }\n",
       "\n",
       "    .dataframe tbody tr th {\n",
       "        vertical-align: top;\n",
       "    }\n",
       "\n",
       "    .dataframe thead th {\n",
       "        text-align: right;\n",
       "    }\n",
       "</style>\n",
       "<table border=\"1\" class=\"dataframe\">\n",
       "  <thead>\n",
       "    <tr style=\"text-align: right;\">\n",
       "      <th></th>\n",
       "      <th>Métricas</th>\n",
       "      <th>RF</th>\n",
       "    </tr>\n",
       "  </thead>\n",
       "  <tbody>\n",
       "    <tr>\n",
       "      <th>0</th>\n",
       "      <td>MAE</td>\n",
       "      <td>9.808306</td>\n",
       "    </tr>\n",
       "    <tr>\n",
       "      <th>1</th>\n",
       "      <td>RMSE</td>\n",
       "      <td>16.119014</td>\n",
       "    </tr>\n",
       "    <tr>\n",
       "      <th>2</th>\n",
       "      <td>R2</td>\n",
       "      <td>0.285381</td>\n",
       "    </tr>\n",
       "  </tbody>\n",
       "</table>\n",
       "</div>"
      ],
      "text/plain": [
       "  Métricas         RF\n",
       "0      MAE   9.808306\n",
       "1     RMSE  16.119014\n",
       "2       R2   0.285381"
      ]
     },
     "execution_count": 168,
     "metadata": {},
     "output_type": "execute_result"
    }
   ],
   "source": [
    "metricasrf = {'Métricas': ['MAE', 'RMSE', 'R2'], \n",
    "           'RF': [mae_rf, rmse_rf,r2_rf]}\n",
    "df_metricasrf = pd.DataFrame(data = metricasrf)\n",
    "df_metricasrf"
   ]
  },
  {
   "cell_type": "code",
   "execution_count": null,
   "metadata": {},
   "outputs": [],
   "source": []
  }
 ],
 "metadata": {
  "kernelspec": {
   "display_name": "Python 3",
   "language": "python",
   "name": "python3"
  },
  "language_info": {
   "codemirror_mode": {
    "name": "ipython",
    "version": 3
   },
   "file_extension": ".py",
   "mimetype": "text/x-python",
   "name": "python",
   "nbconvert_exporter": "python",
   "pygments_lexer": "ipython3",
   "version": "3.7.6"
  }
 },
 "nbformat": 4,
 "nbformat_minor": 2
}
